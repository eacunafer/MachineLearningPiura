{
 "cells": [
  {
   "cell_type": "markdown",
   "metadata": {},
   "source": [
    "#### ESMA 4016\n",
    "### Los vecinos mas cercanos k-nn\n",
    "#### Edgar Acuna"
   ]
  },
  {
   "cell_type": "markdown",
   "metadata": {},
   "source": [
    "### Estimacion de densidad univariada usando los vecinos mas cercanos"
   ]
  },
  {
   "cell_type": "markdown",
   "metadata": {},
   "source": [
    "$$\\hat{f}(t)=\\frac{k}{2nd_k(t)},$$\n",
    "\n",
    "donde k es el numero de vecinos, t es el punto donde se desea aproximar la densidad,  n es el numero de puntos observados y $d_k(T)$ es la distancia de t a su k-esimo vecino mas cercano "
   ]
  },
  {
   "cell_type": "code",
   "execution_count": 9,
   "metadata": {
    "collapsed": true
   },
   "outputs": [],
   "source": [
    "import numpy as np\n",
    "import scipy.spatial.distance\n",
    "from sklearn.metrics.pairwise  import pairwise_distances\n",
    "import matplotlib.pyplot as plt\n",
    "%matplotlib inline"
   ]
  },
  {
   "cell_type": "code",
   "execution_count": 10,
   "metadata": {
    "collapsed": true
   },
   "outputs": [],
   "source": [
    "#Esta funcion estima una densidad univariada usando el metodo k-nn\n",
    "def fdknn(y, npoints, k):\n",
    "    \"\"\"\n",
    "    Parameters\n",
    "    y es la muestra tomada\n",
    "    npoints: es el numero de puntos donde se va a estimar la funcion de densidad\n",
    "    k : es el numero de vecinos mas cercanos\n",
    "    la densidad estimada en los puntos npoints y su plot\n",
    "    \"\"\"\n",
    "    m=min(y)\n",
    "    M=max(y)\n",
    "    x=np.linspace(m-1,M+1,num=npoints) \n",
    "    x = x.reshape(-1,1)\n",
    "    y=np.asarray(y)\n",
    "    y = y.reshape(-1,1)\n",
    "    d = pairwise_distances(x,y)\n",
    "    d = np.sort(d, axis=1)\n",
    "    d2=2*d[:,(k-1)]\n",
    "    fest= k/(len(y) * d2)\n",
    "    return x,fest"
   ]
  },
  {
   "cell_type": "code",
   "execution_count": null,
   "metadata": {
    "collapsed": true
   },
   "outputs": [],
   "source": [
    "#Estimando la funcion de densidad basada en la muestra tomada y\n",
    "y=[7.03860,6.38018,6.95461,2.25521,7.24608,6.62930,3.92734,0.40701,5.59448,5.05751]\n",
    "#Con  1 vecino mas cercano\n",
    "x,fest1=fdknn(y,10,1)\n",
    "# con k=3 vecinos\n",
    "x,fest3=fdknn(y,10,3)\n",
    "# con k=5 vecinos\n",
    "x,fest5=fdknn(y,10,5)\n",
    "# con k-7 vecinos\n",
    "x,fest7=fdknn(y,10,7)\n",
    "#Ploteando los scatter plots\n",
    "fig = plt.figure(figsize=(10,10))\n",
    "\n",
    "ax1 = fig.add_subplot(221)\n",
    "\n",
    "ax1.scatter(x,fest1)\n",
    "ax1.plot(x,fest1)\n",
    "plt.title(\"k=1\")\n",
    "\n",
    "ax2 = fig.add_subplot(222)\n",
    "ax2.scatter(x,fest3)\n",
    "ax2.plot(x,fest3)\n",
    "plt.title(\"k=3\")\n",
    "\n",
    "ax3 = fig.add_subplot(223)\n",
    "ax3.scatter(x,fest5)\n",
    "ax3.plot(x,fest5)\n",
    "plt.title(\"k=5\")\n",
    "\n",
    "ax4 = fig.add_subplot(224)\n",
    "ax4.scatter(x,fest7)\n",
    "ax4.plot(x,fest7)\n",
    "plt.title(\"k=7\")\n",
    "\n",
    "plt.show()\n"
   ]
  },
  {
   "cell_type": "markdown",
   "metadata": {},
   "source": [
    "Comentario: A medida que k aumenta la curva de densidad se hace mas suave y se crea sobreajuste"
   ]
  },
  {
   "cell_type": "code",
   "execution_count": 13,
   "metadata": {},
   "outputs": [
    {
     "data": {
      "text/plain": [
       "(array([ 1.,  0.,  1.,  0.,  0.,  1.,  1.,  1.,  1.,  4.]),\n",
       " array([ 0.40701 ,  1.090917,  1.774824,  2.458731,  3.142638,  3.826545,\n",
       "         4.510452,  5.194359,  5.878266,  6.562173,  7.24608 ]),\n",
       " <a list of 10 Patch objects>)"
      ]
     },
     "execution_count": 13,
     "metadata": {},
     "output_type": "execute_result"
    },
    {
     "data": {
      "image/png": "[encoded data removed]",
      "text/plain": [
       "<matplotlib.figure.Figure at 0xcd3f9e8>"
      ]
     },
     "metadata": {},
     "output_type": "display_data"
    }
   ],
   "source": [
    "#Haciendo el Histograma de los valores de y\n",
    "plt.hist(y)"
   ]
  },
  {
   "cell_type": "code",
   "execution_count": null,
   "metadata": {
    "collapsed": true
   },
   "outputs": [],
   "source": []
  }
 ],
 "metadata": {
  "kernelspec": {
   "display_name": "Python 2",
   "language": "python",
   "name": "python2"
  },
  "language_info": {
   "codemirror_mode": {
    "name": "ipython",
    "version": 2
   },
   "file_extension": ".py",
   "mimetype": "text/x-python",
   "name": "python",
   "nbconvert_exporter": "python",
   "pygments_lexer": "ipython2",
   "version": "2.7.13"
  }
 },
 "nbformat": 4,
 "nbformat_minor": 2
}
