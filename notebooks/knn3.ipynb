{
 "cells": [
  {
   "cell_type": "markdown",
   "metadata": {},
   "source": [
    "### ESMA 4016\n",
    "### k-nn aplicado a datos de reconocimiento de digitos\n",
    "### Edgar Acuna"
   ]
  },
  {
   "cell_type": "code",
   "execution_count": 1,
   "metadata": {
    "collapsed": true
   },
   "outputs": [],
   "source": [
    "from __future__ import print_function\n",
    "from sklearn.model_selection import train_test_split\n",
    "from sklearn.neighbors import KNeighborsClassifier\n",
    "from sklearn.metrics import classification_report\n",
    "from sklearn import datasets\n",
    "from skimage import exposure\n",
    "import numpy as np\n",
    "import imutils\n",
    "import cv2\n",
    "import matplotlib.pyplot as plt\n",
    "%matplotlib inline"
   ]
  },
  {
   "cell_type": "markdown",
   "metadata": {},
   "source": [
    "Los datos originales estan disponibles en la UCI aqui se usa solo una parte de ellos que vienen con scikit-learn"
   ]
  },
  {
   "cell_type": "code",
   "execution_count": 2,
   "metadata": {},
   "outputs": [
    {
     "name": "stdout",
     "output_type": "stream",
     "text": [
      "[[  0.   0.   5. ...,   0.   0.   0.]\n",
      " [  0.   0.   0. ...,  10.   0.   0.]\n",
      " [  0.   0.   0. ...,  16.   9.   0.]\n",
      " ..., \n",
      " [  0.   0.   1. ...,   6.   0.   0.]\n",
      " [  0.   0.   2. ...,  12.   0.   0.]\n",
      " [  0.   0.  10. ...,  12.   1.   0.]]\n"
     ]
    }
   ],
   "source": [
    "# load el MNIST digits dataset\n",
    "mnist = datasets.load_digits()\n",
    "print (mnist.data)"
   ]
  },
  {
   "cell_type": "code",
   "execution_count": 3,
   "metadata": {},
   "outputs": [
    {
     "data": {
      "text/plain": [
       "<matplotlib.figure.Figure at 0x11362358>"
      ]
     },
     "metadata": {},
     "output_type": "display_data"
    },
    {
     "data": {
      "image/png": "[encoded data removed]",
      "text/plain": [
       "<matplotlib.figure.Figure at 0x112d0978>"
      ]
     },
     "metadata": {},
     "output_type": "display_data"
    }
   ],
   "source": [
    "# Graficando  una de las imagenes del digito 0\n",
    "import matplotlib.pyplot as plt \n",
    "plt.gray() \n",
    "plt.matshow(mnist.images[0]) \n",
    "plt.show() "
   ]
  },
  {
   "cell_type": "code",
   "execution_count": 4,
   "metadata": {},
   "outputs": [
    {
     "name": "stdout",
     "output_type": "stream",
     "text": [
      "training data points: 1347\n",
      "testing data points: 450\n"
     ]
    }
   ],
   "source": [
    "# Training and testing split,\n",
    "# 75% para training y 25% for testing\n",
    "(trainData, testData, trainLabels, testLabels) = train_test_split(np.array(mnist.data), mnist.target, test_size=0.25, random_state=42)\n",
    "\n",
    "# Mostrando los tamanos de cada data split\n",
    "print(\"training data points: {}\".format(len(trainLabels)))\n",
    "print(\"testing data points: {}\".format(len(testLabels)))\n"
   ]
  },
  {
   "cell_type": "code",
   "execution_count": 5,
   "metadata": {},
   "outputs": [
    {
     "name": "stdout",
     "output_type": "stream",
     "text": [
      "k=1, accuracy=98.22%\n",
      "k=3, accuracy=98.67%\n",
      "k=5, accuracy=99.33%\n",
      "k=7, accuracy=99.33%\n",
      "k=9, accuracy=98.67%\n",
      "k=11, accuracy=98.00%\n",
      "k=13, accuracy=98.00%\n",
      "k=15, accuracy=98.22%\n",
      "k=17, accuracy=98.00%\n",
      "k=19, accuracy=97.78%\n",
      "k=21, accuracy=97.78%\n",
      "k=23, accuracy=97.78%\n",
      "k=25, accuracy=97.33%\n",
      "k=27, accuracy=97.11%\n",
      "k=29, accuracy=97.11%\n"
     ]
    }
   ],
   "source": [
    "# Trataremos de encontrar por inspeccion el mejor k de acuerdo a la precision que da el  clasificador\n",
    "kVals = range(1, 30, 2)\n",
    "accuracies = []\n",
    "\n",
    "# loop sobre los valores de kVals\n",
    "for k in xrange(1, 30, 2):\n",
    "    # Entrenar el clasificador  con el valor actual de  `k`\n",
    "    model = KNeighborsClassifier(n_neighbors=k)\n",
    "    model.fit(trainData, trainLabels)\n",
    "\n",
    "    # Evaluar los modelos e imprimiendo sus predicciones\n",
    "    score = model.score(testData, testLabels)\n",
    "    print(\"k=%d, accuracy=%.2f%%\" % (k, score * 100))\n",
    "    accuracies.append(score)\n"
   ]
  },
  {
   "cell_type": "code",
   "execution_count": 6,
   "metadata": {},
   "outputs": [
    {
     "name": "stdout",
     "output_type": "stream",
     "text": [
      "k=5 dio la mayor precision de 99.33%\n"
     ]
    }
   ],
   "source": [
    "# Hallando el k para el cual la precision es mayor\n",
    "i = np.argmax(accuracies)\n",
    "print(\"k=%d dio la mayor precision de %.2f%%\" % (kVals[i],\n",
    "    accuracies[i] * 100))\n"
   ]
  },
  {
   "cell_type": "code",
   "execution_count": 7,
   "metadata": {},
   "outputs": [
    {
     "name": "stdout",
     "output_type": "stream",
     "text": [
      "EVALUATION ON TESTING DATA\n",
      "             precision    recall  f1-score   support\n",
      "\n",
      "          0       1.00      1.00      1.00        43\n",
      "          1       1.00      1.00      1.00        37\n",
      "          2       1.00      1.00      1.00        38\n",
      "          3       1.00      1.00      1.00        46\n",
      "          4       0.98      1.00      0.99        55\n",
      "          5       0.98      0.98      0.98        59\n",
      "          6       1.00      1.00      1.00        45\n",
      "          7       1.00      1.00      1.00        41\n",
      "          8       1.00      1.00      1.00        38\n",
      "          9       0.98      0.96      0.97        48\n",
      "\n",
      "avg / total       0.99      0.99      0.99       450\n",
      "\n"
     ]
    }
   ],
   "source": [
    "# Aplicamos otra vez k-nn pero con el mejor clasificador\n",
    "model = KNeighborsClassifier(n_neighbors=kVals[i])\n",
    "model.fit(trainData, trainLabels)\n",
    "\n",
    "# Prediciendo los labels del conjunto de prueba\n",
    "predictions = model.predict(testData)\n",
    "\n",
    "# Evaluando el rendimiento del clasificador para cada uno de lpos digitos\n",
    "print(\"EVALUATION ON TESTING DATA\")\n",
    "print(classification_report(testLabels, predictions))\n",
    "\n",
    "# Algunos digitso son clasificados con 100% de precision\n"
   ]
  },
  {
   "cell_type": "code",
   "execution_count": 8,
   "metadata": {
    "scrolled": false
   },
   "outputs": [
    {
     "name": "stdout",
     "output_type": "stream",
     "text": [
      "El digito de la imagen es: 9\n"
     ]
    },
    {
     "data": {
      "text/plain": [
       "<matplotlib.figure.Figure at 0x6d7cba8>"
      ]
     },
     "metadata": {},
     "output_type": "display_data"
    },
    {
     "data": {
      "image/png": "[encoded data removed]",
      "text/plain": [
       "<matplotlib.figure.Figure at 0x11eff3c8>"
      ]
     },
     "metadata": {},
     "output_type": "display_data"
    }
   ],
   "source": [
    "# Cotejando las predicciones contra las imagenes \n",
    "# Eligiendo al azar una imagen\n",
    "i=np.random.randint(0, high=len(testLabels))\n",
    "image=testData[i].reshape(1,-1)\n",
    "prediction = model.predict(image)[0]\n",
    "\n",
    "# Convirtiendo la imagen de un arreglo de dimension 64 a una imagen de dimension 8x8 compatibel con OpenVC\n",
    "# rescalando luego a una imagen de 32x32 pixels para que se vea mejor\n",
    "image = image.reshape((8, 8)).astype(\"uint8\")\n",
    "image = exposure.rescale_intensity(image, out_range=(0, 255))\n",
    "image = imutils.resize(image, width=32, inter=cv2.INTER_CUBIC)\n",
    "\n",
    "# Mostrando la prediccion\n",
    "print(\"El digito de la imagen es: {}\".format(prediction))\n",
    "plt.gray() \n",
    "plt.matshow(image) \n",
    "plt.show() "
   ]
  },
  {
   "cell_type": "code",
   "execution_count": null,
   "metadata": {
    "collapsed": true
   },
   "outputs": [],
   "source": []
  },
  {
   "cell_type": "code",
   "execution_count": null,
   "metadata": {
    "collapsed": true
   },
   "outputs": [],
   "source": []
  }
 ],
 "metadata": {
  "kernelspec": {
   "display_name": "Python 2",
   "language": "python",
   "name": "python2"
  },
  "language_info": {
   "codemirror_mode": {
    "name": "ipython",
    "version": 2
   },
   "file_extension": ".py",
   "mimetype": "text/x-python",
   "name": "python",
   "nbconvert_exporter": "python",
   "pygments_lexer": "ipython2",
   "version": "2.7.13"
  }
 },
 "nbformat": 4,
 "nbformat_minor": 2
}
