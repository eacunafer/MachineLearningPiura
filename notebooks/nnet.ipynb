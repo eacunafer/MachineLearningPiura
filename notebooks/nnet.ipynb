{
 "cells": [
  {
   "cell_type": "markdown",
   "metadata": {},
   "source": [
    "### ESMA 4016\n",
    "### Clasificacion usando Neural Networks y Deep Learning\n",
    "#### Edgar Acuna "
   ]
  },
  {
   "cell_type": "code",
   "execution_count": 2,
   "metadata": {
    "collapsed": true
   },
   "outputs": [],
   "source": [
    "import numpy as np\n",
    "import pandas as pd\n",
    "from sklearn.preprocessing import LabelEncoder\n",
    "from sklearn.model_selection import train_test_split\n",
    "from sklearn.neural_network import MLPClassifier\n",
    "from sklearn.metrics import classification_report, confusion_matrix\n",
    "from sklearn.preprocessing import StandardScaler\n",
    "import matplotlib.pyplot as plt\n",
    "%matplotlib inline"
   ]
  },
  {
   "cell_type": "markdown",
   "metadata": {},
   "source": [
    "#### Ejemplo1. Neural Nets aplicado a  los datos de las notas en un curso, usando como predictoras E1 y E2"
   ]
  },
  {
   "cell_type": "code",
   "execution_count": 3,
   "metadata": {
    "collapsed": true
   },
   "outputs": [],
   "source": [
    "df=pd.read_csv(\"http://academic.uprm.edu/eacuna/eje1dis.csv\")"
   ]
  },
  {
   "cell_type": "code",
   "execution_count": 4,
   "metadata": {},
   "outputs": [
    {
     "name": "stderr",
     "output_type": "stream",
     "text": [
      "C:\\Users\\edgar2017\\Anaconda2\\envs\\ipykernel_py2\\lib\\site-packages\\sklearn\\utils\\validation.py:475: DataConversionWarning: Data with input dtype int64 was converted to float64 by StandardScaler.\n",
      "  warnings.warn(msg, DataConversionWarning)\n"
     ]
    }
   ],
   "source": [
    "#Convirtiendo en matriz la tabla de predictoras y la columna de clases\n",
    "y=df['Nota']\n",
    "X=df.iloc[:,0:2]\n",
    "#creando una columna \"pass\" numerica para representar las clases\n",
    "lb_make = LabelEncoder()\n",
    "df[\"pass\"] = lb_make.fit_transform(df[\"Nota\"])\n",
    "y2=df['pass']\n",
    "y1=y2.as_matrix()\n",
    "X1=X.as_matrix()\n",
    "scaler = StandardScaler()\n",
    "scaler.fit(X1)\n",
    "StandardScaler(copy=True, with_mean=True, with_std=True)\n",
    "X1= scaler.transform(X1)"
   ]
  },
  {
   "cell_type": "code",
   "execution_count": 5,
   "metadata": {},
   "outputs": [
    {
     "name": "stdout",
     "output_type": "stream",
     "text": [
      "[1 1 1 1 1 1 1 1 1 1 1 1 1 1 1 1 1 1 1 1 1 1 1 1 0 0 0 0 0 0 0 0]\n"
     ]
    }
   ],
   "source": [
    "print y1"
   ]
  },
  {
   "cell_type": "code",
   "execution_count": 6,
   "metadata": {},
   "outputs": [
    {
     "name": "stdout",
     "output_type": "stream",
     "text": [
      "[[ 1.63786386  1.38369921]\n",
      " [ 1.63786386  1.15427758]\n",
      " [ 1.90561172  1.03956676]\n",
      " [ 1.43705297  1.23075145]\n",
      " [ 1.23624207  1.15427758]\n",
      " [ 0.2321876   0.73367125]\n",
      " [ 0.2321876   1.34546227]\n",
      " [-0.50411902  1.11604064]\n",
      " [ 1.16930511 -0.33696302]\n",
      " [-0.97267777  1.15427758]\n",
      " [-0.10249723  0.77190819]\n",
      " [-1.84285831  0.96309288]\n",
      " [-0.63799295 -0.03106751]\n",
      " [ 0.29912456  0.77190819]\n",
      " [ 0.09831367  1.00132982]\n",
      " [ 0.29912456 -1.29288648]\n",
      " [-0.16943419  0.12188024]\n",
      " [ 0.43299849 -0.26048914]\n",
      " [ 0.90155725 -1.48407117]\n",
      " [-0.30330812 -0.03106751]\n",
      " [-0.50411902 -0.60462159]\n",
      " [-0.37024509 -0.48991077]\n",
      " [ 0.49993546 -0.68109546]\n",
      " [-0.16943419  0.38953881]\n",
      " [-1.37429956 -0.56638465]\n",
      " [-2.31141707 -0.87228016]\n",
      " [-0.30330812 -0.94875403]\n",
      " [ 0.2321876  -1.52230811]\n",
      " [-0.63799295 -0.98699097]\n",
      " [-0.97267777 -1.44583423]\n",
      " [ 0.36606153 -1.75172974]\n",
      " [-1.44123653 -1.02522791]]\n"
     ]
    }
   ],
   "source": [
    "print X1"
   ]
  },
  {
   "cell_type": "code",
   "execution_count": 19,
   "metadata": {},
   "outputs": [
    {
     "data": {
      "text/plain": [
       "MLPClassifier(activation='relu', alpha=0.0001, batch_size='auto', beta_1=0.9,\n",
       "       beta_2=0.999, early_stopping=False, epsilon=1e-08,\n",
       "       hidden_layer_sizes=(5, 5), learning_rate='constant',\n",
       "       learning_rate_init=0.001, max_iter=500, momentum=0.9,\n",
       "       nesterovs_momentum=True, power_t=0.5, random_state=None,\n",
       "       shuffle=True, solver='adam', tol=0.0001, validation_fraction=0.1,\n",
       "       verbose=False, warm_start=False)"
      ]
     },
     "execution_count": 19,
     "metadata": {},
     "output_type": "execute_result"
    }
   ],
   "source": [
    "#Haciendo el knn con tres vecinos y calculando el porcentaje de precision\n",
    "mlp = MLPClassifier(hidden_layer_sizes=(5,5),max_iter=500)\n",
    "mlp.fit(X1, y1) "
   ]
  },
  {
   "cell_type": "code",
   "execution_count": 20,
   "metadata": {},
   "outputs": [
    {
     "data": {
      "text/plain": [
       "[array([[  5.37888269e-01,  -5.65258395e-01,   5.18530741e-01,\n",
       "           1.02422789e+00,   2.33519031e-12],\n",
       "        [  6.68418017e-01,  -9.34432018e-01,   1.29623182e+00,\n",
       "           7.11554475e-01,  -8.06167978e-14]]),\n",
       " array([[  6.69925592e-02,  -2.11967201e-02,  -7.83203009e-02,\n",
       "          -1.00355227e-01,   2.96942547e-01],\n",
       "        [ -2.08363028e-01,  -1.03332297e+00,   6.16116542e-01,\n",
       "          -4.57481915e-01,   8.67430553e-01],\n",
       "        [  9.62577463e-01,   2.62596054e-01,  -3.68748138e-01,\n",
       "          -7.48040135e-01,   2.39853527e-02],\n",
       "        [  7.78226180e-01,   2.43846184e-02,   4.10033580e-01,\n",
       "          -2.88832740e-01,  -5.65489453e-01],\n",
       "        [ -1.43412433e-14,   3.38185202e-01,  -2.76502051e-02,\n",
       "           2.08224765e-01,  -2.39227391e-01]]),\n",
       " array([[ 0.80567677],\n",
       "        [ 1.10127166],\n",
       "        [-0.36779042],\n",
       "        [ 0.13778266],\n",
       "        [-0.27339066]])]"
      ]
     },
     "execution_count": 20,
     "metadata": {},
     "output_type": "execute_result"
    }
   ],
   "source": [
    "mlp.coefs_"
   ]
  },
  {
   "cell_type": "code",
   "execution_count": 21,
   "metadata": {},
   "outputs": [
    {
     "data": {
      "text/plain": [
       "[array([-0.02478817, -0.62101209,  0.98108094, -0.17229757, -0.78729622]),\n",
       " array([ 0.1395771 ,  0.85883564,  0.1318511 ,  0.30667538,  0.30394564]),\n",
       " array([-0.46689688])]"
      ]
     },
     "execution_count": 21,
     "metadata": {},
     "output_type": "execute_result"
    }
   ],
   "source": [
    "mlp.intercepts_"
   ]
  },
  {
   "cell_type": "code",
   "execution_count": 23,
   "metadata": {},
   "outputs": [
    {
     "name": "stdout",
     "output_type": "stream",
     "text": [
      "[[ 8  0]\n",
      " [ 1 23]]\n"
     ]
    }
   ],
   "source": [
    "#Calculando las predicciones\n",
    "pred=mlp.predict(X1)\n",
    "print(confusion_matrix(y1,pred))"
   ]
  },
  {
   "cell_type": "code",
   "execution_count": 24,
   "metadata": {},
   "outputs": [
    {
     "name": "stdout",
     "output_type": "stream",
     "text": [
      "             precision    recall  f1-score   support\n",
      "\n",
      "          0       0.89      1.00      0.94         8\n",
      "          1       1.00      0.96      0.98        24\n",
      "\n",
      "avg / total       0.97      0.97      0.97        32\n",
      "\n"
     ]
    }
   ],
   "source": [
    "print(classification_report(y1,pred))"
   ]
  },
  {
   "cell_type": "code",
   "execution_count": 25,
   "metadata": {},
   "outputs": [
    {
     "name": "stdout",
     "output_type": "stream",
     "text": [
      "Este es el numero de errores= 1\n"
     ]
    }
   ],
   "source": [
    "#Calculando los errores\n",
    "error=(y1!=pred).sum()\n",
    "print \"Este es el numero de errores=\", error"
   ]
  },
  {
   "cell_type": "code",
   "execution_count": 26,
   "metadata": {},
   "outputs": [
    {
     "data": {
      "image/png": "[encoded data removed]",
      "text/plain": [
       "<matplotlib.figure.Figure at 0xdd0b2b0>"
      ]
     },
     "metadata": {},
     "output_type": "display_data"
    }
   ],
   "source": [
    "#Visualizando la fromtera de decision\n",
    "from matplotlib.colors import ListedColormap\n",
    "mlp = MLPClassifier(hidden_layer_sizes=(10),max_iter=500)\n",
    "mlp.fit(X1, y1) \n",
    "eje1=np.arange(start = X1[:, 0].min()-1, stop = X1[:, 0].max() + 1, step = 0.1)\n",
    "eje2=np.arange(start = X1[:, 1].min()-1, stop = X1[:, 1].max() + 1, step = 0.11)\n",
    "Y1, Y2 = np.meshgrid(eje1,eje2)\n",
    "pred2=mlp.predict(np.c_[Y1.ravel(), Y2.ravel()]).reshape(Y1.shape)\n",
    "plt.figure(figsize=(10, 10))\n",
    "plt.pcolormesh(Y1, Y2, pred2,cmap=plt.cm.Paired)\n",
    "# Plot also the training points#\n",
    "plt.scatter(X1[:, 0], X1[:, 1], c=y2, edgecolors='k')\n",
    "plt.xlabel('Ex1')\n",
    "plt.ylabel('Ex2')\n",
    "plt.xlim(Y1.min(), Y1.max())\n",
    "plt.ylim(Y2.min(), Y2.max())\n",
    "plt.xticks(())\n",
    "plt.yticks(())\n",
    "\n",
    "plt.show()"
   ]
  },
  {
   "cell_type": "markdown",
   "metadata": {},
   "source": [
    "#### Ejemplo 2. Nnets aplicado a Diabetes"
   ]
  },
  {
   "cell_type": "code",
   "execution_count": 27,
   "metadata": {},
   "outputs": [
    {
     "name": "stdout",
     "output_type": "stream",
     "text": [
      "(768, 9)\n"
     ]
    },
    {
     "data": {
      "text/html": [
       "<div>\n",
       "<style scoped>\n",
       "    .dataframe tbody tr th:only-of-type {\n",
       "        vertical-align: middle;\n",
       "    }\n",
       "\n",
       "    .dataframe tbody tr th {\n",
       "        vertical-align: top;\n",
       "    }\n",
       "\n",
       "    .dataframe thead th {\n",
       "        text-align: right;\n",
       "    }\n",
       "</style>\n",
       "<table border=\"1\" class=\"dataframe\">\n",
       "  <thead>\n",
       "    <tr style=\"text-align: right;\">\n",
       "      <th></th>\n",
       "      <th>preg</th>\n",
       "      <th>plas</th>\n",
       "      <th>pres</th>\n",
       "      <th>skin</th>\n",
       "      <th>test</th>\n",
       "      <th>mass</th>\n",
       "      <th>pedi</th>\n",
       "      <th>age</th>\n",
       "      <th>class</th>\n",
       "    </tr>\n",
       "  </thead>\n",
       "  <tbody>\n",
       "    <tr>\n",
       "      <th>0</th>\n",
       "      <td>6</td>\n",
       "      <td>148</td>\n",
       "      <td>72</td>\n",
       "      <td>35</td>\n",
       "      <td>0</td>\n",
       "      <td>33.6</td>\n",
       "      <td>0.627</td>\n",
       "      <td>50</td>\n",
       "      <td>2</td>\n",
       "    </tr>\n",
       "    <tr>\n",
       "      <th>1</th>\n",
       "      <td>1</td>\n",
       "      <td>85</td>\n",
       "      <td>66</td>\n",
       "      <td>29</td>\n",
       "      <td>0</td>\n",
       "      <td>26.6</td>\n",
       "      <td>0.351</td>\n",
       "      <td>31</td>\n",
       "      <td>1</td>\n",
       "    </tr>\n",
       "    <tr>\n",
       "      <th>2</th>\n",
       "      <td>8</td>\n",
       "      <td>183</td>\n",
       "      <td>64</td>\n",
       "      <td>0</td>\n",
       "      <td>0</td>\n",
       "      <td>23.3</td>\n",
       "      <td>0.672</td>\n",
       "      <td>32</td>\n",
       "      <td>2</td>\n",
       "    </tr>\n",
       "    <tr>\n",
       "      <th>3</th>\n",
       "      <td>1</td>\n",
       "      <td>89</td>\n",
       "      <td>66</td>\n",
       "      <td>23</td>\n",
       "      <td>94</td>\n",
       "      <td>28.1</td>\n",
       "      <td>0.167</td>\n",
       "      <td>21</td>\n",
       "      <td>1</td>\n",
       "    </tr>\n",
       "    <tr>\n",
       "      <th>4</th>\n",
       "      <td>0</td>\n",
       "      <td>137</td>\n",
       "      <td>40</td>\n",
       "      <td>35</td>\n",
       "      <td>168</td>\n",
       "      <td>43.1</td>\n",
       "      <td>2.288</td>\n",
       "      <td>33</td>\n",
       "      <td>2</td>\n",
       "    </tr>\n",
       "  </tbody>\n",
       "</table>\n",
       "</div>"
      ],
      "text/plain": [
       "   preg  plas  pres  skin  test  mass   pedi  age  class\n",
       "0     6   148    72    35     0  33.6  0.627   50      2\n",
       "1     1    85    66    29     0  26.6  0.351   31      1\n",
       "2     8   183    64     0     0  23.3  0.672   32      2\n",
       "3     1    89    66    23    94  28.1  0.167   21      1\n",
       "4     0   137    40    35   168  43.1  2.288   33      2"
      ]
     },
     "execution_count": 27,
     "metadata": {},
     "output_type": "execute_result"
    }
   ],
   "source": [
    "url= \"http://academic.uprm.edu/eacuna/diabetes.dat\"\n",
    "names = ['preg', 'plas', 'pres', 'skin', 'test', 'mass', 'pedi', 'age', 'class']\n",
    "data = pd.read_table(url, names=names)\n",
    "print(data.shape)\n",
    "data.head()"
   ]
  },
  {
   "cell_type": "code",
   "execution_count": 28,
   "metadata": {
    "collapsed": true
   },
   "outputs": [],
   "source": [
    "y=data['class']\n",
    "X=data.iloc[:,0:8]\n",
    "X_train, X_test, y_train, y_test = train_test_split(X, y)\n",
    "#y1=y.as_matrix()\n",
    "#X1=X.as_matrix()\n",
    "scaler = StandardScaler()\n",
    "scaler.fit(X_train)\n",
    "StandardScaler(copy=True, with_mean=True, with_std=True)\n",
    "X_train= scaler.transform(X_train)\n",
    "X_test = scaler.transform(X_test)"
   ]
  },
  {
   "cell_type": "code",
   "execution_count": 46,
   "metadata": {},
   "outputs": [
    {
     "data": {
      "text/plain": [
       "MLPClassifier(activation='relu', alpha=0.0001, batch_size='auto', beta_1=0.9,\n",
       "       beta_2=0.999, early_stopping=False, epsilon=1e-08,\n",
       "       hidden_layer_sizes=20, learning_rate='constant',\n",
       "       learning_rate_init=0.001, max_iter=500, momentum=0.9,\n",
       "       nesterovs_momentum=True, power_t=0.5, random_state=None,\n",
       "       shuffle=True, solver='adam', tol=0.0001, validation_fraction=0.1,\n",
       "       verbose=False, warm_start=False)"
      ]
     },
     "execution_count": 46,
     "metadata": {},
     "output_type": "execute_result"
    }
   ],
   "source": [
    "mlp=MLPClassifier(hidden_layer_sizes=(20),max_iter=500)\n",
    "mlp.fit(X_train, y_train) "
   ]
  },
  {
   "cell_type": "code",
   "execution_count": 47,
   "metadata": {},
   "outputs": [
    {
     "data": {
      "text/plain": [
       "[array([[ -5.23683481e-01,  -4.37988689e-01,   1.97091710e-01,\n",
       "           1.97778427e-01,   5.40525944e-01,  -4.19530373e-01,\n",
       "          -1.17017531e-01,   4.03922113e-01,  -2.83255092e-01,\n",
       "          -1.62214027e-01,  -3.07677758e-01,   2.26908947e-01,\n",
       "           3.58804750e-01,   3.33184718e-01,  -3.02391247e-01,\n",
       "          -2.46521500e-02,  -1.17129364e-01,  -2.80810468e-01,\n",
       "           1.40553922e-01,  -2.69665183e-01],\n",
       "        [  1.22755283e-01,   2.42002659e-01,  -4.01051974e-01,\n",
       "          -1.14798613e-01,   7.38084915e-01,  -4.84729661e-01,\n",
       "          -2.95374161e-01,  -2.49986999e-01,  -2.46674141e-01,\n",
       "          -2.18444879e-01,  -3.54979311e-01,  -2.40832392e-01,\n",
       "           3.68873076e-02,   5.01826083e-01,  -3.99741531e-01,\n",
       "          -2.17653621e-01,  -2.04572770e-01,  -6.58755125e-01,\n",
       "          -5.27312653e-01,  -4.64342442e-01],\n",
       "        [  3.45452847e-02,   9.68628123e-02,  -6.02084748e-02,\n",
       "          -1.21500934e-01,  -9.65138091e-02,   5.11484728e-03,\n",
       "           2.51332106e-01,   3.49876735e-01,  -7.16203519e-02,\n",
       "           3.15604109e-01,  -2.03742120e-01,   2.64894031e-01,\n",
       "           4.05875951e-01,  -1.30376348e-02,   6.95576510e-02,\n",
       "          -5.05349345e-01,  -3.17116906e-01,   3.26722724e-01,\n",
       "           2.33932290e-01,   3.86115885e-01],\n",
       "        [ -5.32383559e-01,  -4.23764283e-01,  -5.62162094e-01,\n",
       "          -5.96870631e-01,   2.24925220e-01,  -2.01899552e-01,\n",
       "          -5.41901413e-01,   5.25630071e-01,  -1.73134624e-01,\n",
       "          -3.96032461e-02,  -2.34708416e-01,   6.52688120e-02,\n",
       "          -2.77868053e-02,  -1.92802990e-01,  -2.44166897e-01,\n",
       "          -2.50660415e-01,  -4.59729412e-02,   1.11234942e-01,\n",
       "           7.18260128e-02,   3.36519881e-02],\n",
       "        [ -5.24037052e-01,   1.85099623e-01,   5.44051055e-01,\n",
       "           3.35636288e-01,   1.30122677e-01,   3.67631560e-01,\n",
       "          -1.04291979e-01,   6.59796438e-01,  -1.94558428e-01,\n",
       "          -1.96195323e-01,   4.10706921e-01,   4.06359073e-02,\n",
       "           2.70145379e-01,   1.73971227e-01,   3.35444518e-01,\n",
       "           3.96127362e-01,  -1.89534797e-01,   2.74954626e-01,\n",
       "           8.76412668e-02,  -6.47651167e-02],\n",
       "        [ -4.43680274e-01,   3.33938760e-01,   2.03342487e-01,\n",
       "          -3.90775292e-01,   3.77853633e-01,   1.26736379e-01,\n",
       "           5.79899811e-01,   5.10917247e-01,  -3.00176953e-01,\n",
       "          -5.19655819e-01,  -3.49758979e-01,   8.24718251e-02,\n",
       "           4.25801639e-01,  -2.12480691e-01,  -4.58216204e-01,\n",
       "           4.02056411e-01,  -7.38126085e-01,   1.17205898e-01,\n",
       "           1.44553860e-01,  -3.19155563e-01],\n",
       "        [ -1.83734226e-01,  -3.11491910e-01,   3.13526270e-01,\n",
       "           4.90838093e-01,   4.30487042e-01,   1.27177836e-01,\n",
       "          -2.45205073e-02,   1.80177375e-01,   3.32777053e-01,\n",
       "          -3.30344772e-01,  -1.16144479e-02,  -4.32288971e-01,\n",
       "          -1.54748146e-01,   2.89705014e-01,   1.70640080e-01,\n",
       "          -1.07640165e-01,   7.16151989e-02,  -5.55386608e-01,\n",
       "          -1.62177570e-01,   6.34463925e-02],\n",
       "        [ -2.87436910e-01,  -6.58048943e-02,   3.13924817e-01,\n",
       "           2.41741316e-01,   3.06980560e-04,   3.42264294e-01,\n",
       "          -8.11542068e-02,   1.50627259e-02,   4.20322945e-02,\n",
       "          -5.54115286e-01,  -5.50809540e-01,  -6.54484404e-01,\n",
       "           2.65417184e-01,  -2.16777741e-01,  -7.33501294e-01,\n",
       "           3.77309517e-01,   2.30124346e-01,  -9.68774818e-02,\n",
       "          -6.49762548e-01,   3.02613771e-02]]), array([[ 0.197988  ],\n",
       "        [ 0.38131261],\n",
       "        [-0.41554362],\n",
       "        [-0.34083747],\n",
       "        [ 0.49168346],\n",
       "        [-0.29484172],\n",
       "        [ 0.40842049],\n",
       "        [ 0.20532686],\n",
       "        [ 0.46995304],\n",
       "        [-0.72036359],\n",
       "        [-0.71860561],\n",
       "        [-0.25073851],\n",
       "        [-0.17329064],\n",
       "        [ 0.58932438],\n",
       "        [-0.90213573],\n",
       "        [ 0.43857885],\n",
       "        [-0.62865858],\n",
       "        [-0.38000919],\n",
       "        [-0.4461953 ],\n",
       "        [ 0.27792362]])]"
      ]
     },
     "execution_count": 47,
     "metadata": {},
     "output_type": "execute_result"
    }
   ],
   "source": [
    "mlp.coefs_"
   ]
  },
  {
   "cell_type": "code",
   "execution_count": 49,
   "metadata": {},
   "outputs": [
    {
     "data": {
      "text/plain": [
       "[array([-0.07124253,  0.31210969,  0.32062791,  0.22927053,  0.0514751 ,\n",
       "         0.57154633, -0.13752334,  0.06180995,  0.30629036,  0.21964899,\n",
       "        -0.13339402,  0.68050486,  0.2998381 ,  0.12943538, -0.23544417,\n",
       "         0.12638207, -0.1295614 ,  0.56813622,  0.50539425, -0.49152074]),\n",
       " array([ 0.2220971])]"
      ]
     },
     "execution_count": 49,
     "metadata": {},
     "output_type": "execute_result"
    }
   ],
   "source": [
    "mlp.intercepts_"
   ]
  },
  {
   "cell_type": "code",
   "execution_count": 44,
   "metadata": {
    "collapsed": true
   },
   "outputs": [],
   "source": [
    "pred=mlp.predict(X_test)"
   ]
  },
  {
   "cell_type": "code",
   "execution_count": 45,
   "metadata": {},
   "outputs": [
    {
     "data": {
      "text/plain": [
       "0.74479166666666663"
      ]
     },
     "execution_count": 45,
     "metadata": {},
     "output_type": "execute_result"
    }
   ],
   "source": [
    "mlp.score(X_test, y_test)"
   ]
  },
  {
   "cell_type": "code",
   "execution_count": 40,
   "metadata": {},
   "outputs": [
    {
     "name": "stdout",
     "output_type": "stream",
     "text": [
      "             precision    recall  f1-score   support\n",
      "\n",
      "          1       0.79      0.83      0.81       124\n",
      "          2       0.66      0.60      0.63        68\n",
      "\n",
      "avg / total       0.75      0.75      0.75       192\n",
      "\n"
     ]
    }
   ],
   "source": [
    "print (classification_report(y_test,pred))"
   ]
  },
  {
   "cell_type": "markdown",
   "metadata": {},
   "source": [
    "### Ejemplo 3. Nnet a  Landsat "
   ]
  },
  {
   "cell_type": "code",
   "execution_count": 50,
   "metadata": {
    "collapsed": true
   },
   "outputs": [],
   "source": [
    "#Cargando el conjunto de datos Landsat\n",
    "url='http://academic.uprm.edu/eacuna/landsat.txt'\n",
    "data = pd.read_table(url, header=None,delim_whitespace=True)\n",
    "y=data.iloc[:,36]\n",
    "X=data.iloc[:,0:36]\n",
    "#y1=y.as_matrix()\n",
    "#X1=X.as_matrix()\n",
    "scaler = StandardScaler()\n",
    "scaler.fit(X_train)\n",
    "StandardScaler(copy=True, with_mean=True, with_std=True)\n",
    "X_train= scaler.transform(X_train)\n",
    "X_test = scaler.transform(X_test)"
   ]
  },
  {
   "cell_type": "code",
   "execution_count": 54,
   "metadata": {},
   "outputs": [
    {
     "data": {
      "text/plain": [
       "MLPClassifier(activation='relu', alpha=0.0001, batch_size='auto', beta_1=0.9,\n",
       "       beta_2=0.999, early_stopping=False, epsilon=1e-08,\n",
       "       hidden_layer_sizes=(50, 50, 50), learning_rate='constant',\n",
       "       learning_rate_init=0.001, max_iter=500, momentum=0.9,\n",
       "       nesterovs_momentum=True, power_t=0.5, random_state=None,\n",
       "       shuffle=True, solver='adam', tol=0.0001, validation_fraction=0.1,\n",
       "       verbose=False, warm_start=False)"
      ]
     },
     "execution_count": 54,
     "metadata": {},
     "output_type": "execute_result"
    }
   ],
   "source": [
    "#Estimacion de la precision con k=3 vecinos  por el metodo  \"holdout \n",
    "X_train, X_test, y_train, y_test = train_test_split(X, y)\n",
    "mlp=MLPClassifier(hidden_layer_sizes=(50,50,50),max_iter=500)\n",
    "mlp.fit(X_train, y_train) \n",
    "mlp.fit(X_train, y_train) "
   ]
  },
  {
   "cell_type": "code",
   "execution_count": 55,
   "metadata": {},
   "outputs": [
    {
     "name": "stdout",
     "output_type": "stream",
     "text": [
      "[[240   1   2   0   7   0]\n",
      " [  0 121   0   0   7   0]\n",
      " [  0   0 158  34   2  49]\n",
      " [  0   2  29  22   1  39]\n",
      " [  8   0   2   6  90  13]\n",
      " [  0   0  23  22   5 226]]\n"
     ]
    }
   ],
   "source": [
    "pred=mlp.predict(X_test)\n",
    "print(confusion_matrix(y_test, pred))"
   ]
  },
  {
   "cell_type": "code",
   "execution_count": 56,
   "metadata": {},
   "outputs": [
    {
     "name": "stdout",
     "output_type": "stream",
     "text": [
      "             precision    recall  f1-score   support\n",
      "\n",
      "          1       0.97      0.96      0.96       250\n",
      "          2       0.98      0.95      0.96       128\n",
      "          3       0.74      0.65      0.69       243\n",
      "          4       0.26      0.24      0.25        93\n",
      "          5       0.80      0.76      0.78       119\n",
      "          6       0.69      0.82      0.75       276\n",
      "\n",
      "avg / total       0.77      0.77      0.77      1109\n",
      "\n"
     ]
    }
   ],
   "source": [
    "print(classification_report(y_test, pred))"
   ]
  },
  {
   "cell_type": "markdown",
   "metadata": {},
   "source": [
    "### IV. Ejemplo de Deep Learning aplicado a Diabetes"
   ]
  },
  {
   "cell_type": "code",
   "execution_count": 57,
   "metadata": {},
   "outputs": [
    {
     "name": "stdout",
     "output_type": "stream",
     "text": [
      "Checking whether there is an H2O instance running at http://localhost:54321. connected.\n"
     ]
    },
    {
     "data": {
      "text/html": [
       "<div style=\"overflow:auto\"><table style=\"width:50%\"><tr><td>H2O cluster uptime:</td>\n",
       "<td>1 hour 2 mins</td></tr>\n",
       "<tr><td>H2O cluster timezone:</td>\n",
       "<td>America/La_Paz</td></tr>\n",
       "<tr><td>H2O data parsing timezone:</td>\n",
       "<td>UTC</td></tr>\n",
       "<tr><td>H2O cluster version:</td>\n",
       "<td>3.18.0.6</td></tr>\n",
       "<tr><td>H2O cluster version age:</td>\n",
       "<td>26 days </td></tr>\n",
       "<tr><td>H2O cluster name:</td>\n",
       "<td>H2O_from_python_edgar2017_574tkv</td></tr>\n",
       "<tr><td>H2O cluster total nodes:</td>\n",
       "<td>1</td></tr>\n",
       "<tr><td>H2O cluster free memory:</td>\n",
       "<td>1.323 Gb</td></tr>\n",
       "<tr><td>H2O cluster total cores:</td>\n",
       "<td>4</td></tr>\n",
       "<tr><td>H2O cluster allowed cores:</td>\n",
       "<td>4</td></tr>\n",
       "<tr><td>H2O cluster status:</td>\n",
       "<td>locked, healthy</td></tr>\n",
       "<tr><td>H2O connection url:</td>\n",
       "<td>http://localhost:54321</td></tr>\n",
       "<tr><td>H2O connection proxy:</td>\n",
       "<td>None</td></tr>\n",
       "<tr><td>H2O internal security:</td>\n",
       "<td>False</td></tr>\n",
       "<tr><td>H2O API Extensions:</td>\n",
       "<td>Algos, AutoML, Core V3, Core V4</td></tr>\n",
       "<tr><td>Python version:</td>\n",
       "<td>2.7.13 final</td></tr></table></div>"
      ],
      "text/plain": [
       "--------------------------  --------------------------------\n",
       "H2O cluster uptime:         1 hour 2 mins\n",
       "H2O cluster timezone:       America/La_Paz\n",
       "H2O data parsing timezone:  UTC\n",
       "H2O cluster version:        3.18.0.6\n",
       "H2O cluster version age:    26 days\n",
       "H2O cluster name:           H2O_from_python_edgar2017_574tkv\n",
       "H2O cluster total nodes:    1\n",
       "H2O cluster free memory:    1.323 Gb\n",
       "H2O cluster total cores:    4\n",
       "H2O cluster allowed cores:  4\n",
       "H2O cluster status:         locked, healthy\n",
       "H2O connection url:         http://localhost:54321\n",
       "H2O connection proxy:\n",
       "H2O internal security:      False\n",
       "H2O API Extensions:         Algos, AutoML, Core V3, Core V4\n",
       "Python version:             2.7.13 final\n",
       "--------------------------  --------------------------------"
      ]
     },
     "metadata": {},
     "output_type": "display_data"
    }
   ],
   "source": [
    "import h2o\n",
    "from h2o.estimators.deeplearning import H2OAutoEncoderEstimator, H2ODeepLearningEstimator\n",
    "h2o.init()\n",
    "h2o.no_progress()"
   ]
  },
  {
   "cell_type": "code",
   "execution_count": 58,
   "metadata": {
    "collapsed": true
   },
   "outputs": [],
   "source": [
    "diabetes = h2o.import_file(\"https://academic.uprm.edu/eacuna/diabetes.dat\")\n",
    "myx=['C1','C2','C3','C4','C5','C6','C7','C8']\n",
    "diabetes['C9']=diabetes['C9'].asfactor()\n",
    "myy=\"C9\"\n",
    "dl_model = H2ODeepLearningEstimator(hidden=[10,10],epochs=200)\n",
    "dl_model.train(myx, myy, training_frame=diabetes)"
   ]
  },
  {
   "cell_type": "code",
   "execution_count": 59,
   "metadata": {},
   "outputs": [
    {
     "name": "stdout",
     "output_type": "stream",
     "text": [
      "0.825520833333\n"
     ]
    }
   ],
   "source": [
    "y_pred=dl_model.predict(diabetes)\n",
    "print (y_pred['predict']==diabetes['C9']).sum()/float(len(diabetes))"
   ]
  },
  {
   "cell_type": "code",
   "execution_count": 60,
   "metadata": {},
   "outputs": [
    {
     "name": "stdout",
     "output_type": "stream",
     "text": [
      "\n",
      "ModelMetricsBinomial: deeplearning\n",
      "** Reported on test data. **\n",
      "\n",
      "MSE: 0.119943996905\n",
      "RMSE: 0.346329318575\n",
      "LogLoss: 0.375134201402\n",
      "Mean Per-Class Error: 0.172089552239\n",
      "AUC: 0.902645522388\n",
      "Gini: 0.805291044776\n",
      "Confusion Matrix (Act/Pred) for max f1 @ threshold = 0.397354450096: \n"
     ]
    },
    {
     "data": {
      "text/html": [
       "<div style=\"overflow:auto\"><table style=\"width:50%\"><tr><td><b></b></td>\n",
       "<td><b>1</b></td>\n",
       "<td><b>2</b></td>\n",
       "<td><b>Error</b></td>\n",
       "<td><b>Rate</b></td></tr>\n",
       "<tr><td>1</td>\n",
       "<td>410.0</td>\n",
       "<td>90.0</td>\n",
       "<td>0.18</td>\n",
       "<td> (90.0/500.0)</td></tr>\n",
       "<tr><td>2</td>\n",
       "<td>44.0</td>\n",
       "<td>224.0</td>\n",
       "<td>0.1642</td>\n",
       "<td> (44.0/268.0)</td></tr>\n",
       "<tr><td>Total</td>\n",
       "<td>454.0</td>\n",
       "<td>314.0</td>\n",
       "<td>0.1745</td>\n",
       "<td> (134.0/768.0)</td></tr></table></div>"
      ],
      "text/plain": [
       "       1    2    Error    Rate\n",
       "-----  ---  ---  -------  -------------\n",
       "1      410  90   0.18     (90.0/500.0)\n",
       "2      44   224  0.1642   (44.0/268.0)\n",
       "Total  454  314  0.1745   (134.0/768.0)"
      ]
     },
     "metadata": {},
     "output_type": "display_data"
    },
    {
     "name": "stdout",
     "output_type": "stream",
     "text": [
      "Maximum Metrics: Maximum metrics at their respective thresholds\n",
      "\n"
     ]
    },
    {
     "data": {
      "text/html": [
       "<div style=\"overflow:auto\"><table style=\"width:50%\"><tr><td><b>metric</b></td>\n",
       "<td><b>threshold</b></td>\n",
       "<td><b>value</b></td>\n",
       "<td><b>idx</b></td></tr>\n",
       "<tr><td>max f1</td>\n",
       "<td>0.3973545</td>\n",
       "<td>0.7697595</td>\n",
       "<td>200.0</td></tr>\n",
       "<tr><td>max f2</td>\n",
       "<td>0.2030697</td>\n",
       "<td>0.8454907</td>\n",
       "<td>279.0</td></tr>\n",
       "<tr><td>max f0point5</td>\n",
       "<td>0.5981297</td>\n",
       "<td>0.7784698</td>\n",
       "<td>130.0</td></tr>\n",
       "<tr><td>max accuracy</td>\n",
       "<td>0.5465430</td>\n",
       "<td>0.8333333</td>\n",
       "<td>148.0</td></tr>\n",
       "<tr><td>max precision</td>\n",
       "<td>0.9992127</td>\n",
       "<td>1.0</td>\n",
       "<td>0.0</td></tr>\n",
       "<tr><td>max recall</td>\n",
       "<td>0.0149212</td>\n",
       "<td>1.0</td>\n",
       "<td>381.0</td></tr>\n",
       "<tr><td>max specificity</td>\n",
       "<td>0.9992127</td>\n",
       "<td>1.0</td>\n",
       "<td>0.0</td></tr>\n",
       "<tr><td>max absolute_mcc</td>\n",
       "<td>0.3973545</td>\n",
       "<td>0.6358357</td>\n",
       "<td>200.0</td></tr>\n",
       "<tr><td>max min_per_class_accuracy</td>\n",
       "<td>0.4039801</td>\n",
       "<td>0.8208955</td>\n",
       "<td>197.0</td></tr>\n",
       "<tr><td>max mean_per_class_accuracy</td>\n",
       "<td>0.3973545</td>\n",
       "<td>0.8279104</td>\n",
       "<td>200.0</td></tr></table></div>"
      ],
      "text/plain": [
       "metric                       threshold    value     idx\n",
       "---------------------------  -----------  --------  -----\n",
       "max f1                       0.397354     0.769759  200\n",
       "max f2                       0.20307      0.845491  279\n",
       "max f0point5                 0.59813      0.77847   130\n",
       "max accuracy                 0.546543     0.833333  148\n",
       "max precision                0.999213     1         0\n",
       "max recall                   0.0149212    1         381\n",
       "max specificity              0.999213     1         0\n",
       "max absolute_mcc             0.397354     0.635836  200\n",
       "max min_per_class_accuracy   0.40398      0.820896  197\n",
       "max mean_per_class_accuracy  0.397354     0.82791   200"
      ]
     },
     "metadata": {},
     "output_type": "display_data"
    },
    {
     "name": "stdout",
     "output_type": "stream",
     "text": [
      "Gains/Lift Table: Avg response rate: 34.90 %\n",
      "\n"
     ]
    },
    {
     "data": {
      "text/html": [
       "<div style=\"overflow:auto\"><table style=\"width:50%\"><tr><td><b></b></td>\n",
       "<td><b>group</b></td>\n",
       "<td><b>cumulative_data_fraction</b></td>\n",
       "<td><b>lower_threshold</b></td>\n",
       "<td><b>lift</b></td>\n",
       "<td><b>cumulative_lift</b></td>\n",
       "<td><b>response_rate</b></td>\n",
       "<td><b>cumulative_response_rate</b></td>\n",
       "<td><b>capture_rate</b></td>\n",
       "<td><b>cumulative_capture_rate</b></td>\n",
       "<td><b>gain</b></td>\n",
       "<td><b>cumulative_gain</b></td></tr>\n",
       "<tr><td></td>\n",
       "<td>1</td>\n",
       "<td>0.0104167</td>\n",
       "<td>0.9857534</td>\n",
       "<td>2.8656716</td>\n",
       "<td>2.8656716</td>\n",
       "<td>1.0</td>\n",
       "<td>1.0</td>\n",
       "<td>0.0298507</td>\n",
       "<td>0.0298507</td>\n",
       "<td>186.5671642</td>\n",
       "<td>186.5671642</td></tr>\n",
       "<tr><td></td>\n",
       "<td>2</td>\n",
       "<td>0.0208333</td>\n",
       "<td>0.9710113</td>\n",
       "<td>2.8656716</td>\n",
       "<td>2.8656716</td>\n",
       "<td>1.0</td>\n",
       "<td>1.0</td>\n",
       "<td>0.0298507</td>\n",
       "<td>0.0597015</td>\n",
       "<td>186.5671642</td>\n",
       "<td>186.5671642</td></tr>\n",
       "<tr><td></td>\n",
       "<td>3</td>\n",
       "<td>0.03125</td>\n",
       "<td>0.9646304</td>\n",
       "<td>2.8656716</td>\n",
       "<td>2.8656716</td>\n",
       "<td>1.0</td>\n",
       "<td>1.0</td>\n",
       "<td>0.0298507</td>\n",
       "<td>0.0895522</td>\n",
       "<td>186.5671642</td>\n",
       "<td>186.5671642</td></tr>\n",
       "<tr><td></td>\n",
       "<td>4</td>\n",
       "<td>0.0403646</td>\n",
       "<td>0.9572626</td>\n",
       "<td>2.4562900</td>\n",
       "<td>2.7732306</td>\n",
       "<td>0.8571429</td>\n",
       "<td>0.9677419</td>\n",
       "<td>0.0223881</td>\n",
       "<td>0.1119403</td>\n",
       "<td>145.6289979</td>\n",
       "<td>177.3230621</td></tr>\n",
       "<tr><td></td>\n",
       "<td>5</td>\n",
       "<td>0.0507812</td>\n",
       "<td>0.9439911</td>\n",
       "<td>2.5074627</td>\n",
       "<td>2.7187141</td>\n",
       "<td>0.875</td>\n",
       "<td>0.9487179</td>\n",
       "<td>0.0261194</td>\n",
       "<td>0.1380597</td>\n",
       "<td>150.7462687</td>\n",
       "<td>171.8714122</td></tr>\n",
       "<tr><td></td>\n",
       "<td>6</td>\n",
       "<td>0.1002604</td>\n",
       "<td>0.8832030</td>\n",
       "<td>2.6394344</td>\n",
       "<td>2.6795891</td>\n",
       "<td>0.9210526</td>\n",
       "<td>0.9350649</td>\n",
       "<td>0.1305970</td>\n",
       "<td>0.2686567</td>\n",
       "<td>163.9434407</td>\n",
       "<td>167.9589068</td></tr>\n",
       "<tr><td></td>\n",
       "<td>7</td>\n",
       "<td>0.1510417</td>\n",
       "<td>0.8275848</td>\n",
       "<td>2.1308840</td>\n",
       "<td>2.4951107</td>\n",
       "<td>0.7435897</td>\n",
       "<td>0.8706897</td>\n",
       "<td>0.1082090</td>\n",
       "<td>0.3768657</td>\n",
       "<td>113.0884041</td>\n",
       "<td>149.5110654</td></tr>\n",
       "<tr><td></td>\n",
       "<td>8</td>\n",
       "<td>0.2005208</td>\n",
       "<td>0.7198686</td>\n",
       "<td>2.4886096</td>\n",
       "<td>2.4935065</td>\n",
       "<td>0.8684211</td>\n",
       "<td>0.8701299</td>\n",
       "<td>0.1231343</td>\n",
       "<td>0.5</td>\n",
       "<td>148.8609584</td>\n",
       "<td>149.3506494</td></tr>\n",
       "<tr><td></td>\n",
       "<td>9</td>\n",
       "<td>0.3007812</td>\n",
       "<td>0.5619742</td>\n",
       "<td>1.8608257</td>\n",
       "<td>2.2826129</td>\n",
       "<td>0.6493506</td>\n",
       "<td>0.7965368</td>\n",
       "<td>0.1865672</td>\n",
       "<td>0.6865672</td>\n",
       "<td>86.0825741</td>\n",
       "<td>128.2612909</td></tr>\n",
       "<tr><td></td>\n",
       "<td>10</td>\n",
       "<td>0.3997396</td>\n",
       "<td>0.4072111</td>\n",
       "<td>1.2820110</td>\n",
       "<td>2.0349069</td>\n",
       "<td>0.4473684</td>\n",
       "<td>0.7100977</td>\n",
       "<td>0.1268657</td>\n",
       "<td>0.8134328</td>\n",
       "<td>28.2010998</td>\n",
       "<td>103.4906899</td></tr>\n",
       "<tr><td></td>\n",
       "<td>11</td>\n",
       "<td>0.5</td>\n",
       "<td>0.2774969</td>\n",
       "<td>0.9304129</td>\n",
       "<td>1.8134328</td>\n",
       "<td>0.3246753</td>\n",
       "<td>0.6328125</td>\n",
       "<td>0.0932836</td>\n",
       "<td>0.9067164</td>\n",
       "<td>-6.9587129</td>\n",
       "<td>81.3432836</td></tr>\n",
       "<tr><td></td>\n",
       "<td>12</td>\n",
       "<td>0.6002604</td>\n",
       "<td>0.1694312</td>\n",
       "<td>0.5210312</td>\n",
       "<td>1.5975653</td>\n",
       "<td>0.1818182</td>\n",
       "<td>0.5574837</td>\n",
       "<td>0.0522388</td>\n",
       "<td>0.9589552</td>\n",
       "<td>-47.8968792</td>\n",
       "<td>59.7565319</td></tr>\n",
       "<tr><td></td>\n",
       "<td>13</td>\n",
       "<td>0.6992188</td>\n",
       "<td>0.0878635</td>\n",
       "<td>0.2262372</td>\n",
       "<td>1.4034854</td>\n",
       "<td>0.0789474</td>\n",
       "<td>0.4897579</td>\n",
       "<td>0.0223881</td>\n",
       "<td>0.9813433</td>\n",
       "<td>-77.3762765</td>\n",
       "<td>40.3485366</td></tr>\n",
       "<tr><td></td>\n",
       "<td>14</td>\n",
       "<td>0.7994792</td>\n",
       "<td>0.0311916</td>\n",
       "<td>0.0744330</td>\n",
       "<td>1.2368127</td>\n",
       "<td>0.0259740</td>\n",
       "<td>0.4315961</td>\n",
       "<td>0.0074627</td>\n",
       "<td>0.9888060</td>\n",
       "<td>-92.5566970</td>\n",
       "<td>23.6812679</td></tr>\n",
       "<tr><td></td>\n",
       "<td>15</td>\n",
       "<td>0.8997396</td>\n",
       "<td>0.0092828</td>\n",
       "<td>0.1116495</td>\n",
       "<td>1.1114327</td>\n",
       "<td>0.0389610</td>\n",
       "<td>0.3878437</td>\n",
       "<td>0.0111940</td>\n",
       "<td>1.0</td>\n",
       "<td>-88.8350456</td>\n",
       "<td>11.1432706</td></tr>\n",
       "<tr><td></td>\n",
       "<td>16</td>\n",
       "<td>1.0</td>\n",
       "<td>0.0001991</td>\n",
       "<td>0.0</td>\n",
       "<td>1.0</td>\n",
       "<td>0.0</td>\n",
       "<td>0.3489583</td>\n",
       "<td>0.0</td>\n",
       "<td>1.0</td>\n",
       "<td>-100.0</td>\n",
       "<td>0.0</td></tr></table></div>"
      ],
      "text/plain": [
       "    group    cumulative_data_fraction    lower_threshold    lift      cumulative_lift    response_rate    cumulative_response_rate    capture_rate    cumulative_capture_rate    gain      cumulative_gain\n",
       "--  -------  --------------------------  -----------------  --------  -----------------  ---------------  --------------------------  --------------  -------------------------  --------  -----------------\n",
       "    1        0.0104167                   0.985753           2.86567   2.86567            1                1                           0.0298507       0.0298507                  186.567   186.567\n",
       "    2        0.0208333                   0.971011           2.86567   2.86567            1                1                           0.0298507       0.0597015                  186.567   186.567\n",
       "    3        0.03125                     0.96463            2.86567   2.86567            1                1                           0.0298507       0.0895522                  186.567   186.567\n",
       "    4        0.0403646                   0.957263           2.45629   2.77323            0.857143         0.967742                    0.0223881       0.11194                    145.629   177.323\n",
       "    5        0.0507812                   0.943991           2.50746   2.71871            0.875            0.948718                    0.0261194       0.13806                    150.746   171.871\n",
       "    6        0.10026                     0.883203           2.63943   2.67959            0.921053         0.935065                    0.130597        0.268657                   163.943   167.959\n",
       "    7        0.151042                    0.827585           2.13088   2.49511            0.74359          0.87069                     0.108209        0.376866                   113.088   149.511\n",
       "    8        0.200521                    0.719869           2.48861   2.49351            0.868421         0.87013                     0.123134        0.5                        148.861   149.351\n",
       "    9        0.300781                    0.561974           1.86083   2.28261            0.649351         0.796537                    0.186567        0.686567                   86.0826   128.261\n",
       "    10       0.39974                     0.407211           1.28201   2.03491            0.447368         0.710098                    0.126866        0.813433                   28.2011   103.491\n",
       "    11       0.5                         0.277497           0.930413  1.81343            0.324675         0.632812                    0.0932836       0.906716                   -6.95871  81.3433\n",
       "    12       0.60026                     0.169431           0.521031  1.59757            0.181818         0.557484                    0.0522388       0.958955                   -47.8969  59.7565\n",
       "    13       0.699219                    0.0878635          0.226237  1.40349            0.0789474        0.489758                    0.0223881       0.981343                   -77.3763  40.3485\n",
       "    14       0.799479                    0.0311916          0.074433  1.23681            0.025974         0.431596                    0.00746269      0.988806                   -92.5567  23.6813\n",
       "    15       0.89974                     0.00928275         0.11165   1.11143            0.038961         0.387844                    0.011194        1                          -88.835   11.1433\n",
       "    16       1                           0.000199067        0         1                  0                0.348958                    0               1                          -100      0"
      ]
     },
     "metadata": {},
     "output_type": "display_data"
    },
    {
     "name": "stdout",
     "output_type": "stream",
     "text": [
      "\n"
     ]
    },
    {
     "data": {
      "text/plain": []
     },
     "execution_count": 60,
     "metadata": {},
     "output_type": "execute_result"
    }
   ],
   "source": [
    "dl_model.model_performance(diabetes)"
   ]
  },
  {
   "cell_type": "markdown",
   "metadata": {
    "collapsed": true
   },
   "source": [
    "### V . Ejemplo de deep Learning aplicado a Shuttle"
   ]
  },
  {
   "cell_type": "code",
   "execution_count": 61,
   "metadata": {
    "collapsed": true
   },
   "outputs": [],
   "source": [
    "shuttle = h2o.import_file(\"https://academic.uprm.edu/eacuna/shuttle.trn\")\n",
    "myx=['C1','C2','C3','C4','C5','C6','C7','C8','C9']\n",
    "shuttle['C10']=shuttle['C10'].asfactor()\n",
    "myy=\"C10\"\n",
    "dl_model = H2ODeepLearningEstimator(hidden=[10,20],epochs=200)\n",
    "dl_model.train(myx, myy, training_frame=shuttle)"
   ]
  },
  {
   "cell_type": "code",
   "execution_count": 62,
   "metadata": {},
   "outputs": [
    {
     "name": "stdout",
     "output_type": "stream",
     "text": [
      "0.998712643678\n"
     ]
    }
   ],
   "source": [
    "y_pred=dl_model.predict(shuttle)\n",
    "print (y_pred['predict']==shuttle['C10']).sum()/float(len(shuttle))"
   ]
  },
  {
   "cell_type": "code",
   "execution_count": 63,
   "metadata": {},
   "outputs": [
    {
     "name": "stdout",
     "output_type": "stream",
     "text": [
      "\n",
      "ModelMetricsMultinomial: deeplearning\n",
      "** Reported on test data. **\n",
      "\n",
      "MSE: 0.00117967950514\n",
      "RMSE: 0.0343464627748\n",
      "LogLoss: 0.0132599836605\n",
      "Mean Per-Class Error: 0.166253167789\n",
      "Confusion Matrix: Row labels: Actual class; Column labels: Predicted class\n",
      "\n"
     ]
    },
    {
     "data": {
      "text/html": [
       "<div style=\"overflow:auto\"><table style=\"width:50%\"><tr><td><b>1</b></td>\n",
       "<td><b>2</b></td>\n",
       "<td><b>3</b></td>\n",
       "<td><b>4</b></td>\n",
       "<td><b>5</b></td>\n",
       "<td><b>6</b></td>\n",
       "<td><b>7</b></td>\n",
       "<td><b>Error</b></td>\n",
       "<td><b>Rate</b></td></tr>\n",
       "<tr><td>34103.0</td>\n",
       "<td>1.0</td>\n",
       "<td>2.0</td>\n",
       "<td>0.0</td>\n",
       "<td>1.0</td>\n",
       "<td>0.0</td>\n",
       "<td>1.0</td>\n",
       "<td>0.0001466</td>\n",
       "<td>5 / 34,108</td></tr>\n",
       "<tr><td>2.0</td>\n",
       "<td>27.0</td>\n",
       "<td>0.0</td>\n",
       "<td>4.0</td>\n",
       "<td>4.0</td>\n",
       "<td>0.0</td>\n",
       "<td>0.0</td>\n",
       "<td>0.2702703</td>\n",
       "<td>10 / 37</td></tr>\n",
       "<tr><td>11.0</td>\n",
       "<td>0.0</td>\n",
       "<td>119.0</td>\n",
       "<td>2.0</td>\n",
       "<td>0.0</td>\n",
       "<td>0.0</td>\n",
       "<td>0.0</td>\n",
       "<td>0.0984848</td>\n",
       "<td>13 / 132</td></tr>\n",
       "<tr><td>3.0</td>\n",
       "<td>0.0</td>\n",
       "<td>0.0</td>\n",
       "<td>6742.0</td>\n",
       "<td>2.0</td>\n",
       "<td>1.0</td>\n",
       "<td>0.0</td>\n",
       "<td>0.0008892</td>\n",
       "<td>6 / 6,748</td></tr>\n",
       "<tr><td>4.0</td>\n",
       "<td>3.0</td>\n",
       "<td>1.0</td>\n",
       "<td>3.0</td>\n",
       "<td>2443.0</td>\n",
       "<td>4.0</td>\n",
       "<td>0.0</td>\n",
       "<td>0.0061025</td>\n",
       "<td>15 / 2,458</td></tr>\n",
       "<tr><td>1.0</td>\n",
       "<td>0.0</td>\n",
       "<td>0.0</td>\n",
       "<td>1.0</td>\n",
       "<td>0.0</td>\n",
       "<td>4.0</td>\n",
       "<td>0.0</td>\n",
       "<td>0.3333333</td>\n",
       "<td>2 / 6</td></tr>\n",
       "<tr><td>3.0</td>\n",
       "<td>0.0</td>\n",
       "<td>2.0</td>\n",
       "<td>0.0</td>\n",
       "<td>0.0</td>\n",
       "<td>0.0</td>\n",
       "<td>6.0</td>\n",
       "<td>0.4545455</td>\n",
       "<td>5 / 11</td></tr>\n",
       "<tr><td>34127.0</td>\n",
       "<td>31.0</td>\n",
       "<td>124.0</td>\n",
       "<td>6752.0</td>\n",
       "<td>2450.0</td>\n",
       "<td>9.0</td>\n",
       "<td>7.0</td>\n",
       "<td>0.0012874</td>\n",
       "<td>56 / 43,500</td></tr></table></div>"
      ],
      "text/plain": [
       "1      2    3    4     5     6    7    Error        Rate\n",
       "-----  ---  ---  ----  ----  ---  ---  -----------  -----------\n",
       "34103  1    2    0     1     0    1    0.000146593  5 / 34,108\n",
       "2      27   0    4     4     0    0    0.27027      10 / 37\n",
       "11     0    119  2     0     0    0    0.0984848    13 / 132\n",
       "3      0    0    6742  2     1    0    0.000889152  6 / 6,748\n",
       "4      3    1    3     2443  4    0    0.00610252   15 / 2,458\n",
       "1      0    0    1     0     4    0    0.333333     2 / 6\n",
       "3      0    2    0     0     0    6    0.454545     5 / 11\n",
       "34127  31   124  6752  2450  9    7    0.00128736   56 / 43,500"
      ]
     },
     "metadata": {},
     "output_type": "display_data"
    },
    {
     "name": "stdout",
     "output_type": "stream",
     "text": [
      "Top-7 Hit Ratios: \n"
     ]
    },
    {
     "data": {
      "text/html": [
       "<div style=\"overflow:auto\"><table style=\"width:50%\"><tr><td><b>k</b></td>\n",
       "<td><b>hit_ratio</b></td></tr>\n",
       "<tr><td>1</td>\n",
       "<td>0.9987127</td></tr>\n",
       "<tr><td>2</td>\n",
       "<td>0.9994713</td></tr>\n",
       "<tr><td>3</td>\n",
       "<td>0.9997472</td></tr>\n",
       "<tr><td>4</td>\n",
       "<td>0.9997702</td></tr>\n",
       "<tr><td>5</td>\n",
       "<td>0.9998391</td></tr>\n",
       "<tr><td>6</td>\n",
       "<td>0.9999311</td></tr>\n",
       "<tr><td>7</td>\n",
       "<td>1.0000001</td></tr></table></div>"
      ],
      "text/plain": [
       "k    hit_ratio\n",
       "---  -----------\n",
       "1    0.998713\n",
       "2    0.999471\n",
       "3    0.999747\n",
       "4    0.99977\n",
       "5    0.999839\n",
       "6    0.999931\n",
       "7    1"
      ]
     },
     "metadata": {},
     "output_type": "display_data"
    },
    {
     "data": {
      "text/plain": []
     },
     "execution_count": 63,
     "metadata": {},
     "output_type": "execute_result"
    }
   ],
   "source": [
    "dl_model.model_performance(shuttle)"
   ]
  },
  {
   "cell_type": "code",
   "execution_count": 64,
   "metadata": {},
   "outputs": [
    {
     "name": "stdout",
     "output_type": "stream",
     "text": [
      "Model Details\n",
      "=============\n",
      "H2ODeepLearningEstimator :  Deep Learning\n",
      "Model Key:  DeepLearning_model_python_1525981299314_1188\n",
      "\n",
      "\n",
      "ModelMetricsMultinomial: deeplearning\n",
      "** Reported on train data. **\n",
      "\n",
      "MSE: 0.00188648644817\n",
      "RMSE: 0.0434337017553\n",
      "LogLoss: 0.028081436406\n",
      "Mean Per-Class Error: 0.200869604704\n",
      "Confusion Matrix: Row labels: Actual class; Column labels: Predicted class\n",
      "\n"
     ]
    },
    {
     "data": {
      "text/html": [
       "<div style=\"overflow:auto\"><table style=\"width:50%\"><tr><td><b>1</b></td>\n",
       "<td><b>2</b></td>\n",
       "<td><b>3</b></td>\n",
       "<td><b>4</b></td>\n",
       "<td><b>5</b></td>\n",
       "<td><b>6</b></td>\n",
       "<td><b>7</b></td>\n",
       "<td><b>Error</b></td>\n",
       "<td><b>Rate</b></td></tr>\n",
       "<tr><td>7775.0</td>\n",
       "<td>1.0</td>\n",
       "<td>1.0</td>\n",
       "<td>0.0</td>\n",
       "<td>0.0</td>\n",
       "<td>0.0</td>\n",
       "<td>0.0</td>\n",
       "<td>0.0002572</td>\n",
       "<td>2 / 7,777</td></tr>\n",
       "<tr><td>0.0</td>\n",
       "<td>7.0</td>\n",
       "<td>0.0</td>\n",
       "<td>1.0</td>\n",
       "<td>1.0</td>\n",
       "<td>0.0</td>\n",
       "<td>0.0</td>\n",
       "<td>0.2222222</td>\n",
       "<td>2 / 9</td></tr>\n",
       "<tr><td>2.0</td>\n",
       "<td>0.0</td>\n",
       "<td>27.0</td>\n",
       "<td>0.0</td>\n",
       "<td>0.0</td>\n",
       "<td>0.0</td>\n",
       "<td>0.0</td>\n",
       "<td>0.0689655</td>\n",
       "<td>2 / 29</td></tr>\n",
       "<tr><td>3.0</td>\n",
       "<td>0.0</td>\n",
       "<td>0.0</td>\n",
       "<td>1520.0</td>\n",
       "<td>1.0</td>\n",
       "<td>1.0</td>\n",
       "<td>0.0</td>\n",
       "<td>0.0032787</td>\n",
       "<td>5 / 1,525</td></tr>\n",
       "<tr><td>2.0</td>\n",
       "<td>0.0</td>\n",
       "<td>1.0</td>\n",
       "<td>1.0</td>\n",
       "<td>522.0</td>\n",
       "<td>2.0</td>\n",
       "<td>0.0</td>\n",
       "<td>0.0113636</td>\n",
       "<td>6 / 528</td></tr>\n",
       "<tr><td>0.0</td>\n",
       "<td>0.0</td>\n",
       "<td>0.0</td>\n",
       "<td>1.0</td>\n",
       "<td>0.0</td>\n",
       "<td>1.0</td>\n",
       "<td>0.0</td>\n",
       "<td>0.5</td>\n",
       "<td>1 / 2</td></tr>\n",
       "<tr><td>1.0</td>\n",
       "<td>0.0</td>\n",
       "<td>2.0</td>\n",
       "<td>0.0</td>\n",
       "<td>0.0</td>\n",
       "<td>0.0</td>\n",
       "<td>2.0</td>\n",
       "<td>0.6</td>\n",
       "<td>3 / 5</td></tr>\n",
       "<tr><td>7783.0</td>\n",
       "<td>8.0</td>\n",
       "<td>31.0</td>\n",
       "<td>1523.0</td>\n",
       "<td>524.0</td>\n",
       "<td>4.0</td>\n",
       "<td>2.0</td>\n",
       "<td>0.0021266</td>\n",
       "<td>21 / 9,875</td></tr></table></div>"
      ],
      "text/plain": [
       "1     2    3    4     5    6    7    Error        Rate\n",
       "----  ---  ---  ----  ---  ---  ---  -----------  ----------\n",
       "7775  1    1    0     0    0    0    0.000257169  2 / 7,777\n",
       "0     7    0    1     1    0    0    0.222222     2 / 9\n",
       "2     0    27   0     0    0    0    0.0689655    2 / 29\n",
       "3     0    0    1520  1    1    0    0.00327869   5 / 1,525\n",
       "2     0    1    1     522  2    0    0.0113636    6 / 528\n",
       "0     0    0    1     0    1    0    0.5          1 / 2\n",
       "1     0    2    0     0    0    2    0.6          3 / 5\n",
       "7783  8    31   1523  524  4    2    0.00212658   21 / 9,875"
      ]
     },
     "metadata": {},
     "output_type": "display_data"
    },
    {
     "name": "stdout",
     "output_type": "stream",
     "text": [
      "Top-7 Hit Ratios: \n"
     ]
    },
    {
     "data": {
      "text/html": [
       "<div style=\"overflow:auto\"><table style=\"width:50%\"><tr><td><b>k</b></td>\n",
       "<td><b>hit_ratio</b></td></tr>\n",
       "<tr><td>1</td>\n",
       "<td>0.9978734</td></tr>\n",
       "<tr><td>2</td>\n",
       "<td>0.9985823</td></tr>\n",
       "<tr><td>3</td>\n",
       "<td>0.9991899</td></tr>\n",
       "<tr><td>4</td>\n",
       "<td>0.9991899</td></tr>\n",
       "<tr><td>5</td>\n",
       "<td>0.9994937</td></tr>\n",
       "<tr><td>6</td>\n",
       "<td>0.9996962</td></tr>\n",
       "<tr><td>7</td>\n",
       "<td>1.0</td></tr></table></div>"
      ],
      "text/plain": [
       "k    hit_ratio\n",
       "---  -----------\n",
       "1    0.997873\n",
       "2    0.998582\n",
       "3    0.99919\n",
       "4    0.99919\n",
       "5    0.999494\n",
       "6    0.999696\n",
       "7    1"
      ]
     },
     "metadata": {},
     "output_type": "display_data"
    },
    {
     "name": "stdout",
     "output_type": "stream",
     "text": [
      "Scoring History: \n"
     ]
    },
    {
     "data": {
      "text/html": [
       "<div style=\"overflow:auto\"><table style=\"width:50%\"><tr><td><b></b></td>\n",
       "<td><b>timestamp</b></td>\n",
       "<td><b>duration</b></td>\n",
       "<td><b>training_speed</b></td>\n",
       "<td><b>epochs</b></td>\n",
       "<td><b>iterations</b></td>\n",
       "<td><b>samples</b></td>\n",
       "<td><b>training_rmse</b></td>\n",
       "<td><b>training_logloss</b></td>\n",
       "<td><b>training_classification_error</b></td></tr>\n",
       "<tr><td></td>\n",
       "<td>2018-05-10 16:44:27</td>\n",
       "<td> 0.000 sec</td>\n",
       "<td>None</td>\n",
       "<td>0.0</td>\n",
       "<td>0</td>\n",
       "<td>0.0</td>\n",
       "<td>nan</td>\n",
       "<td>nan</td>\n",
       "<td>nan</td></tr>\n",
       "<tr><td></td>\n",
       "<td>2018-05-10 16:44:28</td>\n",
       "<td> 0.683 sec</td>\n",
       "<td>187524 obs/sec</td>\n",
       "<td>2.3020230</td>\n",
       "<td>1</td>\n",
       "<td>100138.0</td>\n",
       "<td>0.0859281</td>\n",
       "<td>0.0729544</td>\n",
       "<td>0.0066835</td></tr>\n",
       "<tr><td></td>\n",
       "<td>2018-05-10 16:44:33</td>\n",
       "<td> 5.870 sec</td>\n",
       "<td>227982 obs/sec</td>\n",
       "<td>29.8788506</td>\n",
       "<td>13</td>\n",
       "<td>1299730.0</td>\n",
       "<td>0.0533952</td>\n",
       "<td>0.0515509</td>\n",
       "<td>0.0031392</td></tr>\n",
       "<tr><td></td>\n",
       "<td>2018-05-10 16:44:39</td>\n",
       "<td>11.365 sec</td>\n",
       "<td>224164 obs/sec</td>\n",
       "<td>57.4376092</td>\n",
       "<td>25</td>\n",
       "<td>2498536.0</td>\n",
       "<td>0.0489833</td>\n",
       "<td>0.0417818</td>\n",
       "<td>0.0026329</td></tr>\n",
       "<tr><td></td>\n",
       "<td>2018-05-10 16:44:44</td>\n",
       "<td>16.465 sec</td>\n",
       "<td>227927 obs/sec</td>\n",
       "<td>85.0301609</td>\n",
       "<td>37</td>\n",
       "<td>3698812.0</td>\n",
       "<td>0.0448518</td>\n",
       "<td>0.0321364</td>\n",
       "<td>0.0021266</td></tr>\n",
       "<tr><td></td>\n",
       "<td>2018-05-10 16:44:49</td>\n",
       "<td>21.708 sec</td>\n",
       "<td>228365 obs/sec</td>\n",
       "<td>112.6131494</td>\n",
       "<td>49</td>\n",
       "<td>4898672.0</td>\n",
       "<td>0.0434337</td>\n",
       "<td>0.0280814</td>\n",
       "<td>0.0021266</td></tr>\n",
       "<tr><td></td>\n",
       "<td>2018-05-10 16:44:54</td>\n",
       "<td>26.945 sec</td>\n",
       "<td>228666 obs/sec</td>\n",
       "<td>140.1909195</td>\n",
       "<td>61</td>\n",
       "<td>6098305.0</td>\n",
       "<td>0.0458211</td>\n",
       "<td>0.0305809</td>\n",
       "<td>0.0025316</td></tr>\n",
       "<tr><td></td>\n",
       "<td>2018-05-10 16:44:59</td>\n",
       "<td>32.195 sec</td>\n",
       "<td>228789 obs/sec</td>\n",
       "<td>167.7998161</td>\n",
       "<td>73</td>\n",
       "<td>7299292.0</td>\n",
       "<td>0.0438900</td>\n",
       "<td>0.0381255</td>\n",
       "<td>0.0021266</td></tr>\n",
       "<tr><td></td>\n",
       "<td>2018-05-10 16:45:05</td>\n",
       "<td>37.443 sec</td>\n",
       "<td>228899 obs/sec</td>\n",
       "<td>195.3854483</td>\n",
       "<td>85</td>\n",
       "<td>8499267.0</td>\n",
       "<td>0.0424593</td>\n",
       "<td>0.0382719</td>\n",
       "<td>0.0019241</td></tr>\n",
       "<tr><td></td>\n",
       "<td>2018-05-10 16:45:06</td>\n",
       "<td>38.764 sec</td>\n",
       "<td>228941 obs/sec</td>\n",
       "<td>202.2842299</td>\n",
       "<td>88</td>\n",
       "<td>8799364.0</td>\n",
       "<td>0.0435229</td>\n",
       "<td>0.0313514</td>\n",
       "<td>0.0019241</td></tr>\n",
       "<tr><td></td>\n",
       "<td>2018-05-10 16:45:06</td>\n",
       "<td>38.788 sec</td>\n",
       "<td>228929 obs/sec</td>\n",
       "<td>202.2842299</td>\n",
       "<td>88</td>\n",
       "<td>8799364.0</td>\n",
       "<td>0.0434337</td>\n",
       "<td>0.0280814</td>\n",
       "<td>0.0021266</td></tr></table></div>"
      ],
      "text/plain": [
       "    timestamp            duration    training_speed    epochs    iterations    samples      training_rmse    training_logloss    training_classification_error\n",
       "--  -------------------  ----------  ----------------  --------  ------------  -----------  ---------------  ------------------  -------------------------------\n",
       "    2018-05-10 16:44:27  0.000 sec                     0         0             0            nan              nan                 nan\n",
       "    2018-05-10 16:44:28  0.683 sec   187524 obs/sec    2.30202   1             100138       0.0859281        0.0729544           0.00668354\n",
       "    2018-05-10 16:44:33  5.870 sec   227982 obs/sec    29.8789   13            1.29973e+06  0.0533952        0.0515509           0.00313924\n",
       "    2018-05-10 16:44:39  11.365 sec  224164 obs/sec    57.4376   25            2.49854e+06  0.0489833        0.0417818           0.00263291\n",
       "    2018-05-10 16:44:44  16.465 sec  227927 obs/sec    85.0302   37            3.69881e+06  0.0448518        0.0321364           0.00212658\n",
       "    2018-05-10 16:44:49  21.708 sec  228365 obs/sec    112.613   49            4.89867e+06  0.0434337        0.0280814           0.00212658\n",
       "    2018-05-10 16:44:54  26.945 sec  228666 obs/sec    140.191   61            6.09830e+06  0.0458211        0.0305809           0.00253165\n",
       "    2018-05-10 16:44:59  32.195 sec  228789 obs/sec    167.8     73            7.29929e+06  0.04389          0.0381255           0.00212658\n",
       "    2018-05-10 16:45:05  37.443 sec  228899 obs/sec    195.385   85            8.49927e+06  0.0424593        0.0382719           0.00192405\n",
       "    2018-05-10 16:45:06  38.764 sec  228941 obs/sec    202.284   88            8.79936e+06  0.0435229        0.0313514           0.00192405\n",
       "    2018-05-10 16:45:06  38.788 sec  228929 obs/sec    202.284   88            8.79936e+06  0.0434337        0.0280814           0.00212658"
      ]
     },
     "metadata": {},
     "output_type": "display_data"
    },
    {
     "name": "stdout",
     "output_type": "stream",
     "text": [
      "Variable Importances: \n"
     ]
    },
    {
     "data": {
      "text/html": [
       "<div style=\"overflow:auto\"><table style=\"width:50%\"><tr><td><b>variable</b></td>\n",
       "<td><b>relative_importance</b></td>\n",
       "<td><b>scaled_importance</b></td>\n",
       "<td><b>percentage</b></td></tr>\n",
       "<tr><td>C2</td>\n",
       "<td>1.0</td>\n",
       "<td>1.0</td>\n",
       "<td>0.1696334</td></tr>\n",
       "<tr><td>C1</td>\n",
       "<td>0.9006099</td>\n",
       "<td>0.9006099</td>\n",
       "<td>0.1527735</td></tr>\n",
       "<tr><td>C9</td>\n",
       "<td>0.8869020</td>\n",
       "<td>0.8869020</td>\n",
       "<td>0.1504482</td></tr>\n",
       "<tr><td>C5</td>\n",
       "<td>0.7040607</td>\n",
       "<td>0.7040607</td>\n",
       "<td>0.1194322</td></tr>\n",
       "<tr><td>C8</td>\n",
       "<td>0.5886161</td>\n",
       "<td>0.5886161</td>\n",
       "<td>0.0998490</td></tr>\n",
       "<tr><td>C7</td>\n",
       "<td>0.5656106</td>\n",
       "<td>0.5656106</td>\n",
       "<td>0.0959465</td></tr>\n",
       "<tr><td>C4</td>\n",
       "<td>0.4704952</td>\n",
       "<td>0.4704952</td>\n",
       "<td>0.0798117</td></tr>\n",
       "<tr><td>C3</td>\n",
       "<td>0.4180541</td>\n",
       "<td>0.4180541</td>\n",
       "<td>0.0709159</td></tr>\n",
       "<tr><td>C6</td>\n",
       "<td>0.3607157</td>\n",
       "<td>0.3607157</td>\n",
       "<td>0.0611894</td></tr></table></div>"
      ],
      "text/plain": [
       "variable    relative_importance    scaled_importance    percentage\n",
       "----------  ---------------------  -------------------  ------------\n",
       "C2          1                      1                    0.169633\n",
       "C1          0.90061                0.90061              0.152774\n",
       "C9          0.886902               0.886902             0.150448\n",
       "C5          0.704061               0.704061             0.119432\n",
       "C8          0.588616               0.588616             0.099849\n",
       "C7          0.565611               0.565611             0.0959465\n",
       "C4          0.470495               0.470495             0.0798117\n",
       "C3          0.418054               0.418054             0.0709159\n",
       "C6          0.360716               0.360716             0.0611894"
      ]
     },
     "metadata": {},
     "output_type": "display_data"
    },
    {
     "data": {
      "text/plain": [
       "<bound method ?.confusion_matrix of >"
      ]
     },
     "execution_count": 64,
     "metadata": {},
     "output_type": "execute_result"
    }
   ],
   "source": [
    "dl_model.confusion_matrix"
   ]
  },
  {
   "cell_type": "code",
   "execution_count": null,
   "metadata": {
    "collapsed": true
   },
   "outputs": [],
   "source": []
  }
 ],
 "metadata": {
  "kernelspec": {
   "display_name": "Python 2",
   "language": "python",
   "name": "python2"
  },
  "language_info": {
   "codemirror_mode": {
    "name": "ipython",
    "version": 2
   },
   "file_extension": ".py",
   "mimetype": "text/x-python",
   "name": "python",
   "nbconvert_exporter": "python",
   "pygments_lexer": "ipython2",
   "version": "2.7.13"
  }
 },
 "nbformat": 4,
 "nbformat_minor": 2
}
